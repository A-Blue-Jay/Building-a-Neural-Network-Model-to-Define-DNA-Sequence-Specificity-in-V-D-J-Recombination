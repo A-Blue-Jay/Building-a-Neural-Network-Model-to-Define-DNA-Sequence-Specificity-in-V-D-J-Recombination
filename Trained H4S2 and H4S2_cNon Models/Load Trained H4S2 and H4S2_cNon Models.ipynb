{
 "cells": [
  {
   "cell_type": "markdown",
   "id": "87388b59-4489-4920-a5fb-79ddde605737",
   "metadata": {},
   "source": [
    "# ███████████████████\n",
    "# Setting Current Directory\n",
    "## The Location of Model Files Being Used\n",
    "# ███████████████████"
   ]
  },
  {
   "cell_type": "code",
   "execution_count": null,
   "id": "87c05d2d-6cdf-4c9f-834c-8370f7f8d3b3",
   "metadata": {},
   "outputs": [],
   "source": [
    "cd C:\\Users\\File\\Path\\To\\DatasetFiles\\StorageFolder"
   ]
  },
  {
   "cell_type": "code",
   "execution_count": null,
   "id": "edeb3532-23dc-4695-8c1f-175e7d273b02",
   "metadata": {},
   "outputs": [],
   "source": [
    "ls"
   ]
  },
  {
   "cell_type": "markdown",
   "id": "44c2ec4b-38d0-46be-9aa1-ed113f538099",
   "metadata": {},
   "source": [
    "# ███████████████████\n",
    "# Importing Required Packages\n",
    "# ███████████████████"
   ]
  },
  {
   "cell_type": "code",
   "execution_count": 9,
   "id": "a7abcb72-1e37-4369-a826-723896a758a8",
   "metadata": {},
   "outputs": [],
   "source": [
    "import pandas as pd #pandas Version 1.5.3\n",
    "import numpy as np #numpy Version 1.24.3\n",
    "import tensorflow as tf #tensorflow Version 2.15.0\n",
    "import tensorflow_addons as tfa #tensorflow_addons Version 0.22.0"
   ]
  },
  {
   "cell_type": "code",
   "execution_count": 10,
   "id": "c310164b-e247-42d0-9c96-5488c4436570",
   "metadata": {},
   "outputs": [
    {
     "name": "stdout",
     "output_type": "stream",
     "text": [
      "Python Version: 3.11.4 | packaged by Anaconda, Inc. | (main, Jul  5 2023, 13:47:18) [MSC v.1916 64 bit (AMD64)]\n"
     ]
    }
   ],
   "source": [
    "import sys\n",
    "# Print Python version\n",
    "print(f\"Python Version: {sys.version}\")"
   ]
  },
  {
   "cell_type": "code",
   "execution_count": 11,
   "id": "85bd002d-c3a3-43bf-b12a-eb53e120c477",
   "metadata": {},
   "outputs": [
    {
     "name": "stdout",
     "output_type": "stream",
     "text": [
      "pandas: 2.2.2\n",
      "numpy: 1.24.3\n",
      "tensorflow: 2.15.0\n",
      "tensorflow_addons: 0.22.0\n"
     ]
    }
   ],
   "source": [
    "import importlib.metadata\n",
    "\n",
    "# List of package names you want to check\n",
    "packages = [\n",
    "    'pandas',\n",
    "    'numpy',\n",
    "    'tensorflow',\n",
    "    'tensorflow_addons',\n",
    "]\n",
    "\n",
    "# Print the version of each package\n",
    "for package in packages:\n",
    "    try:\n",
    "        version = importlib.metadata.version(package)\n",
    "        print(f\"{package}: {version}\")\n",
    "    except importlib.metadata.PackageNotFoundError:\n",
    "        print(f\"{package} is not installed.\")"
   ]
  },
  {
   "cell_type": "markdown",
   "id": "9f7cb37a-2978-4531-95df-f3ed246efbaa",
   "metadata": {},
   "source": [
    "# ██████████████████████████████████\n",
    "# Load the H4S2 Model and H4S2_cNon Model\n",
    "# ██████████████████████████████████"
   ]
  },
  {
   "cell_type": "code",
   "execution_count": 12,
   "id": "6baa656f-e90d-46ac-9f22-60cf64895370",
   "metadata": {},
   "outputs": [
    {
     "name": "stdout",
     "output_type": "stream",
     "text": [
      "WARNING:tensorflow:From C:\\Users\\JHARRI20\\AppData\\Local\\anaconda3\\envs\\olderPython\\Lib\\site-packages\\keras\\src\\backend.py:1398: The name tf.executing_eagerly_outside_functions is deprecated. Please use tf.compat.v1.executing_eagerly_outside_functions instead.\n",
      "\n"
     ]
    }
   ],
   "source": [
    "# Load the models and name them\n",
    "H4S2_model = tf.keras.models.load_model('H4S2_model.h5')\n",
    "H4S2_cNon_model = tf.keras.models.load_model('H4S2_cNon_model.h5')"
   ]
  },
  {
   "cell_type": "markdown",
   "id": "82eaef0e-c61f-4649-970d-16cbc2b5fdf1",
   "metadata": {},
   "source": [
    "# ██████████████████████████████████\n",
    "# Establish Encoding Function\n",
    "# ██████████████████████████████████"
   ]
  },
  {
   "cell_type": "code",
   "execution_count": 13,
   "id": "7262b360-87b8-4dbe-b98c-8b8744544d2c",
   "metadata": {},
   "outputs": [],
   "source": [
    "def encode_sequences_to_numpy_array(working_df, sequence_column_name='sequence'):\n",
    "    \"\"\"\n",
    "    Encode sequences from a text file into a numpy array of one-hot encoded sequences.\n",
    "\n",
    "    Args:\n",
    "        working_df (pandas.DataFrame): Input DataFrame containing the sequences.\n",
    "        sequence_column_name (str): Name of the column in the text file that contains the sequences. Defaults to 'sequence'.\n",
    "\n",
    "    Returns:\n",
    "        one_hot_seq (numpy.ndarray): A numpy array containing the one-hot encoded sequences.\n",
    "    \"\"\"\n",
    "    # Define a mapping from nucleotides to integers\n",
    "    nt_to_int = {'A': 0, 'T': 1, 'G': 2, 'C': 3, 'a': 0, 't': 1, 'g': 2, 'c': 3}\n",
    "        \n",
    "    # Check if the sequence_column_name exists in the DataFrame\n",
    "    if sequence_column_name not in working_df.columns:\n",
    "        raise ValueError(f\"The specified sequence_column_name '{sequence_column_name}' does not exist in the file.\\nThe file contains: '{list(working_df.columns)}'\")\n",
    "\n",
    "    # Define a new column to store the one-hot encoded sequences\n",
    "    working_df['one_hot_seq'] = ''\n",
    "\n",
    "    # Loop through each row in the DataFrame\n",
    "    for index, row in working_df.iterrows():\n",
    "        # Convert the sequence to an integer representation\n",
    "        int_seq = [nt_to_int[nt] for nt in row[sequence_column_name]]\n",
    "\n",
    "        # One-hot encode the integer sequence\n",
    "        one_hot_seq = tf.keras.utils.to_categorical(int_seq, num_classes=4)\n",
    "\n",
    "        # Update the 'one_hot_seq' column with the one-hot encoded sequence\n",
    "        working_df.at[index, 'one_hot_seq'] = one_hot_seq\n",
    "\n",
    "    # Convert the 'one_hot_seq' column to a numpy array\n",
    "    one_hot_seq = np.array(list(working_df['one_hot_seq']))\n",
    "    \n",
    "    # Flatten each array in ins\n",
    "    one_hot_seq = np.reshape(one_hot_seq, (one_hot_seq.shape[0], -1))\n",
    "    \n",
    "    # Generate feature names based on sequence length\n",
    "    sequence_length = len(working_df[sequence_column_name].iloc[0])  # Assuming all sequences are of the same length\n",
    "    feature_names = [f\"Position_{i+1}_{base}\" for i in range(sequence_length) for base in ['A', 'T', 'G', 'C']]\n",
    "\n",
    "    return one_hot_seq, feature_names"
   ]
  },
  {
   "cell_type": "markdown",
   "id": "6036c17f-1b8d-4abd-866e-b99b9945d57c",
   "metadata": {},
   "source": [
    "# ██████████████████████████████████\n",
    "# Establish Prediction Function\n",
    "# ██████████████████████████████████"
   ]
  },
  {
   "cell_type": "code",
   "execution_count": 14,
   "id": "700f895d-0cb8-4930-ae68-3bbc3b54ae81",
   "metadata": {},
   "outputs": [],
   "source": [
    "# Function to make predictions using the neural network model\n",
    "def make_predictions(model, encoded_sequences):\n",
    "    # Make predictions using the neural network model\n",
    "    predictions = model.predict(encoded_sequences)\n",
    "    return predictions"
   ]
  },
  {
   "cell_type": "markdown",
   "id": "5c994ad5-226b-448b-bd33-147840ebf84f",
   "metadata": {},
   "source": [
    "# ██████████████████████████████████\n",
    "# Make H4S2 Model Prediction\n",
    "# ██████████████████████████████████"
   ]
  },
  {
   "cell_type": "code",
   "execution_count": 15,
   "id": "617ee4ca-13a1-4f78-960c-46b2d01feab5",
   "metadata": {},
   "outputs": [
    {
     "name": "stdout",
     "output_type": "stream",
     "text": [
      "1/1 [==============================] - 0s 116ms/step\n",
      "Predictions shape: (5, 1)\n",
      "  Sequence  Predicted_Readcount\n",
      "0   AGTGAT             1.100153\n",
      "1   ATTGAT             0.484277\n",
      "2   TGTAAC             0.083330\n",
      "3   ACTTCT             0.005739\n",
      "4   TGCTTA             0.002375\n"
     ]
    }
   ],
   "source": [
    "# Example sequences to predict H4-S2\n",
    "sequences = ['AGTGAT', 'ATTGAT', 'TGTAAC', 'ACTTCT', 'TGCTTA']\n",
    "\n",
    "# Convert the sequences into a DataFrame for compatibility\n",
    "sequences_df = pd.DataFrame({'H4S2': sequences})\n",
    "\n",
    "# Encode the sequences into a NumPy array\n",
    "encoded_sequences, labels = encode_sequences_to_numpy_array(sequences_df, sequence_column_name='H4S2')\n",
    "\n",
    "# Make predictions using the neural network model\n",
    "predictions = make_predictions(H4S2_model, encoded_sequences)\n",
    "\n",
    "# Check the shape of predictions and flatten if necessary\n",
    "print(\"Predictions shape:\", predictions.shape)  # Debugging line\n",
    "if predictions.ndim > 1:\n",
    "    predictions = predictions.flatten()  # Flatten the predictions if they are 2D\n",
    "\n",
    "# Create a DataFrame for the predictions\n",
    "predictions_df = pd.DataFrame({\n",
    "    'Sequence': sequences,\n",
    "    'Predicted_Readcount': predictions\n",
    "})\n",
    "\n",
    "print(predictions_df)"
   ]
  },
  {
   "cell_type": "markdown",
   "id": "3823055c-ae9c-4272-a621-87fc7b9d27c4",
   "metadata": {},
   "source": [
    "# ██████████████████████████████████\n",
    "# Make H4S2_cNon Model Prediction\n",
    "# ██████████████████████████████████"
   ]
  },
  {
   "cell_type": "code",
   "execution_count": 16,
   "id": "5bea8475-0be6-42f1-a892-fd3ea227b9b3",
   "metadata": {},
   "outputs": [
    {
     "name": "stdout",
     "output_type": "stream",
     "text": [
      "1/1 [==============================] - 0s 85ms/step\n",
      "Predictions shape: (7, 1)\n",
      "      Sequence  Predicted_Readcount\n",
      "0  AGTGATACACC             0.791120\n",
      "1  AGTGATCTACC             0.336031\n",
      "2  AGTGATTGGTA             0.020244\n",
      "3  AGTGATTCACC             0.385307\n",
      "4  AGTGATTTTCC             0.160189\n",
      "5  AGTGATATGCC             0.220867\n",
      "6  AGTGATGAACC             0.572104\n"
     ]
    }
   ],
   "source": [
    "# Example sequences to predict H4-S2,N1-N3,N8,N9\n",
    "sequences = ['AGTGATACACC', 'AGTGATCTACC', 'AGTGATTGGTA', 'AGTGATTCACC', 'AGTGATTTTCC', 'AGTGATATGCC', 'AGTGATGAACC']\n",
    "\n",
    "# Convert the sequences into a DataFrame for compatibility\n",
    "sequences_df = pd.DataFrame({'H4S2_N1N3_N8N9': sequences})\n",
    "\n",
    "# Encode the sequences into a NumPy array\n",
    "encoded_sequences, labels = encode_sequences_to_numpy_array(sequences_df, sequence_column_name='H4S2_N1N3_N8N9')\n",
    "\n",
    "# Make predictions using the neural network model\n",
    "predictions = make_predictions(H4S2_cNon_model, encoded_sequences)\n",
    "\n",
    "# Check the shape of predictions and flatten if necessary\n",
    "print(\"Predictions shape:\", predictions.shape)  # Debugging line\n",
    "if predictions.ndim > 1:\n",
    "    predictions = predictions.flatten()  # Flatten the predictions if they are 2D\n",
    "\n",
    "# Create a DataFrame for the predictions\n",
    "predictions_df = pd.DataFrame({\n",
    "    'Sequence': sequences,\n",
    "    'Predicted_Readcount': predictions\n",
    "})\n",
    "\n",
    "print(predictions_df)"
   ]
  },
  {
   "cell_type": "code",
   "execution_count": null,
   "id": "6495cf96-d9bb-4947-9175-0327c07c58e3",
   "metadata": {},
   "outputs": [],
   "source": []
  }
 ],
 "metadata": {
  "kernelspec": {
   "display_name": "Python 3 (ipykernel)",
   "language": "python",
   "name": "python3"
  },
  "language_info": {
   "codemirror_mode": {
    "name": "ipython",
    "version": 3
   },
   "file_extension": ".py",
   "mimetype": "text/x-python",
   "name": "python",
   "nbconvert_exporter": "python",
   "pygments_lexer": "ipython3",
   "version": "3.11.4"
  }
 },
 "nbformat": 4,
 "nbformat_minor": 5
}
